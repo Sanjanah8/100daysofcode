def kth_unique_string(strings, k):
    # Step 1: Count occurrences of each string
    count = {}
    for string in strings:
        if string in count:
            count[string] += 1
        else:
            count[string] = 1
    
    # Step 2: Collect unique strings in the order they appear
    unique_strings = []
    for string in strings:
        if count[string] == 1:
            unique_strings.append(string)
    
    # Step 3: Return the k-th unique string or empty string if not enough unique strings
    if len(unique_strings) < k:
        return ""
    else:
        return unique_strings[k-1]

# Input
N = int(input().strip())
strings = [input().strip() for _ in range(N)]
k = int(input().strip())

# Find and print the k-th unique string
print(kth_unique_string(strings, k))
